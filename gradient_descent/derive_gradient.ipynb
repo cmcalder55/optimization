{
 "cells": [
  {
   "cell_type": "markdown",
   "metadata": {
    "id": "D2EZCKeZkiG7"
   },
   "source": [
    "# Derive the gradient for the given expressions"
   ]
  },
  {
   "cell_type": "code",
   "execution_count": null,
   "metadata": {
    "id": "Y3POgvIchDfJ"
   },
   "outputs": [],
   "source": [
    "# Calc the given expression \n",
    "A, x = [[1,0],[0,1]], np.array([2,3])\n",
    "\n",
    "fxn = lambda A,x: 0.5*x.T @ A @ x\n",
    "y = fxn(A, x)"
   ]
  },
  {
   "cell_type": "markdown",
   "metadata": {
    "id": "MldWuSYCLLHl"
   },
   "source": [
    "Given $x=\\begin{bmatrix}2\\\\3\\end{bmatrix}$\n",
    " , and $A = \\begin{bmatrix}a_{1} & a_{2}\\\\a_{3} & a_{4}\\end{bmatrix}$\n",
    "\n",
    "The quadratic equation can be generalized as a series of summations.\n",
    "\n",
    "$$f(x) = 0.5\\sum_{i=1}^n \\sum_{j=1}^n x_{i}*A_{ij}*x_{j}$$\n",
    "\n",
    "Since the lengths of x and A are equal (n = 2), can do the partial derivative w.r.t. matrix element k to compute the gradient.\n",
    "\n",
    "$$f(x) = 0.5\\sum_{i=1}^n (A_{ii}*x_{i}^2 + \\sum_{j\\neq i} x_{i}*A_{ij}*x_{j})$$\n",
    "\\\n",
    "$$\\nabla f(x) = 0.5\\displaystyle \\frac{\\partial f}{\\partial x_{k}}f(x) = \n",
    "0.5\\binom{\\frac{\\partial f}{\\partial x_{1}}}\n",
    "      {\\frac{\\partial f}{\\partial x_{2}}} \n",
    "= 0.5\\binom{\\sum_{j=1}^n x_{j}*A_{j1} + \\sum_{j=1}^n A_{1j}*x_{j}}\n",
    "{\\sum_{j=1}^n x_{j}*A_{j2} + \\sum_{j=1}^n A_{2j}*x_{j}}\n",
    "= 0.5(A^T+A)x$$\n",
    "\\\n",
    "If A is symmetric, i.e. $A_{ij} = A_{ji}$ then $A^T = A$ and the gradient becomes:\\\n",
    "$$\\nabla f(x) = 0.5(A+A)x = Ax$$\n"
   ]
  }
 ],
 "metadata": {
  "colab": {
   "authorship_tag": "ABX9TyOXI9TOkoD7r8vAsAAYNpN1",
   "include_colab_link": true,
   "provenance": []
  },
  "kernelspec": {
   "display_name": "Python 3 (ipykernel)",
   "language": "python",
   "name": "python3"
  },
  "language_info": {
   "codemirror_mode": {
    "name": "ipython",
    "version": 3
   },
   "file_extension": ".py",
   "mimetype": "text/x-python",
   "name": "python",
   "nbconvert_exporter": "python",
   "pygments_lexer": "ipython3",
   "version": "3.11.7"
  }
 },
 "nbformat": 4,
 "nbformat_minor": 4
}
